{
 "cells": [
  {
   "cell_type": "markdown",
   "metadata": {},
   "source": [
    "*Table Of Contents*\n",
    "- - -\n",
    "- [Data Shape](#data_shape)\n",
    "  - [Colosseum scenarios](#data_shape_colosseum_scenarios)\n",
    "  - [Average over multiple experiment runs](#data_shape_average_over_multiple_runs)\n",
    "    - [Fix CPI computation time measurements](#data_shape_average_over_fix_cpi)\n",
    "- [GenSync Performance On Colosseum](#performance_on_colosseum)\n",
    "  - [Rome Scenario](#results_rome)\n",
    "  - [Boston and POWDER Scenarios](#results_boston_and_powder)\n",
    "- - -"
   ]
  },
  {
   "cell_type": "code",
   "execution_count": 206,
   "metadata": {},
   "outputs": [
    {
     "name": "stdout",
     "output_type": "stream",
     "text": [
      "The autoreload extension is already loaded. To reload it, use:\n",
      "  %reload_ext autoreload\n"
     ]
    }
   ],
   "source": [
    "%load_ext autoreload\n",
    "%autoreload 2\n",
    "\n",
    "from typing import List\n",
    "\n",
    "# Dependencies\n",
    "import matplotlib.pyplot as plt\n",
    "import pandas as pd\n",
    "\n",
    "# Local\n",
    "import colosseum_analysis as ca"
   ]
  },
  {
   "cell_type": "markdown",
   "metadata": {},
   "source": [
    "<a name=\"data_shape\"></a>\n",
    "# Data Shape\n",
    "We can get the raw data using `parse`."
   ]
  },
  {
   "cell_type": "code",
   "execution_count": 207,
   "metadata": {},
   "outputs": [
    {
     "data": {
      "text/html": [
       "<div>\n",
       "<style scoped>\n",
       "    .dataframe tbody tr th:only-of-type {\n",
       "        vertical-align: middle;\n",
       "    }\n",
       "\n",
       "    .dataframe tbody tr th {\n",
       "        vertical-align: top;\n",
       "    }\n",
       "\n",
       "    .dataframe thead th {\n",
       "        text-align: right;\n",
       "    }\n",
       "</style>\n",
       "<table border=\"1\" class=\"dataframe\">\n",
       "  <thead>\n",
       "    <tr style=\"text-align: right;\">\n",
       "      <th></th>\n",
       "      <th>algorithm</th>\n",
       "      <th>server</th>\n",
       "      <th>client</th>\n",
       "      <th>cardinality</th>\n",
       "      <th>success</th>\n",
       "      <th>bytes transmitted</th>\n",
       "      <th>bytes received</th>\n",
       "      <th>communication time(s)</th>\n",
       "      <th>idle time(s)</th>\n",
       "      <th>computation time(s)</th>\n",
       "    </tr>\n",
       "  </thead>\n",
       "  <tbody>\n",
       "    <tr>\n",
       "      <th>0</th>\n",
       "      <td>CPI</td>\n",
       "      <td>0</td>\n",
       "      <td>0</td>\n",
       "      <td>10000</td>\n",
       "      <td>True</td>\n",
       "      <td>13.0</td>\n",
       "      <td>62.0</td>\n",
       "      <td>0.480089</td>\n",
       "      <td>0.000000</td>\n",
       "      <td>30.020700</td>\n",
       "    </tr>\n",
       "    <tr>\n",
       "      <th>1</th>\n",
       "      <td>CPI</td>\n",
       "      <td>0</td>\n",
       "      <td>0</td>\n",
       "      <td>10000</td>\n",
       "      <td>True</td>\n",
       "      <td>62.0</td>\n",
       "      <td>13.0</td>\n",
       "      <td>0.359874</td>\n",
       "      <td>0.265700</td>\n",
       "      <td>0.000033</td>\n",
       "    </tr>\n",
       "    <tr>\n",
       "      <th>2</th>\n",
       "      <td>CPI</td>\n",
       "      <td>0</td>\n",
       "      <td>0</td>\n",
       "      <td>10000</td>\n",
       "      <td>True</td>\n",
       "      <td>13.0</td>\n",
       "      <td>62.0</td>\n",
       "      <td>0.480092</td>\n",
       "      <td>0.000000</td>\n",
       "      <td>0.130434</td>\n",
       "    </tr>\n",
       "    <tr>\n",
       "      <th>3</th>\n",
       "      <td>CPI</td>\n",
       "      <td>0</td>\n",
       "      <td>0</td>\n",
       "      <td>10000</td>\n",
       "      <td>True</td>\n",
       "      <td>62.0</td>\n",
       "      <td>13.0</td>\n",
       "      <td>0.359872</td>\n",
       "      <td>0.286035</td>\n",
       "      <td>0.000028</td>\n",
       "    </tr>\n",
       "    <tr>\n",
       "      <th>4</th>\n",
       "      <td>CPI</td>\n",
       "      <td>0</td>\n",
       "      <td>0</td>\n",
       "      <td>10000</td>\n",
       "      <td>True</td>\n",
       "      <td>13.0</td>\n",
       "      <td>62.0</td>\n",
       "      <td>0.479927</td>\n",
       "      <td>0.000000</td>\n",
       "      <td>0.129543</td>\n",
       "    </tr>\n",
       "    <tr>\n",
       "      <th>...</th>\n",
       "      <td>...</td>\n",
       "      <td>...</td>\n",
       "      <td>...</td>\n",
       "      <td>...</td>\n",
       "      <td>...</td>\n",
       "      <td>...</td>\n",
       "      <td>...</td>\n",
       "      <td>...</td>\n",
       "      <td>...</td>\n",
       "      <td>...</td>\n",
       "    </tr>\n",
       "    <tr>\n",
       "      <th>1315</th>\n",
       "      <td>Cuckoo</td>\n",
       "      <td>1000</td>\n",
       "      <td>1000</td>\n",
       "      <td>10000</td>\n",
       "      <td>True</td>\n",
       "      <td>36023.0</td>\n",
       "      <td>35964.0</td>\n",
       "      <td>0.548040</td>\n",
       "      <td>0.081242</td>\n",
       "      <td>0.038412</td>\n",
       "    </tr>\n",
       "    <tr>\n",
       "      <th>1316</th>\n",
       "      <td>Cuckoo</td>\n",
       "      <td>1000</td>\n",
       "      <td>1000</td>\n",
       "      <td>10000</td>\n",
       "      <td>True</td>\n",
       "      <td>21590.0</td>\n",
       "      <td>36023.0</td>\n",
       "      <td>0.441711</td>\n",
       "      <td>0.000000</td>\n",
       "      <td>0.040792</td>\n",
       "    </tr>\n",
       "    <tr>\n",
       "      <th>1317</th>\n",
       "      <td>Cuckoo</td>\n",
       "      <td>1000</td>\n",
       "      <td>1000</td>\n",
       "      <td>10000</td>\n",
       "      <td>True</td>\n",
       "      <td>36023.0</td>\n",
       "      <td>35964.0</td>\n",
       "      <td>0.546906</td>\n",
       "      <td>0.081442</td>\n",
       "      <td>0.039721</td>\n",
       "    </tr>\n",
       "    <tr>\n",
       "      <th>1318</th>\n",
       "      <td>Cuckoo</td>\n",
       "      <td>1000</td>\n",
       "      <td>1000</td>\n",
       "      <td>10000</td>\n",
       "      <td>True</td>\n",
       "      <td>21590.0</td>\n",
       "      <td>36023.0</td>\n",
       "      <td>0.441867</td>\n",
       "      <td>0.000000</td>\n",
       "      <td>0.040778</td>\n",
       "    </tr>\n",
       "    <tr>\n",
       "      <th>1319</th>\n",
       "      <td>Cuckoo</td>\n",
       "      <td>1000</td>\n",
       "      <td>1000</td>\n",
       "      <td>10000</td>\n",
       "      <td>True</td>\n",
       "      <td>36023.0</td>\n",
       "      <td>35964.0</td>\n",
       "      <td>0.547919</td>\n",
       "      <td>0.065125</td>\n",
       "      <td>0.038833</td>\n",
       "    </tr>\n",
       "  </tbody>\n",
       "</table>\n",
       "<p>1320 rows × 10 columns</p>\n",
       "</div>"
      ],
      "text/plain": [
       "     algorithm  server  client  cardinality  success  bytes transmitted  \\\n",
       "0          CPI       0       0        10000     True               13.0   \n",
       "1          CPI       0       0        10000     True               62.0   \n",
       "2          CPI       0       0        10000     True               13.0   \n",
       "3          CPI       0       0        10000     True               62.0   \n",
       "4          CPI       0       0        10000     True               13.0   \n",
       "...        ...     ...     ...          ...      ...                ...   \n",
       "1315    Cuckoo    1000    1000        10000     True            36023.0   \n",
       "1316    Cuckoo    1000    1000        10000     True            21590.0   \n",
       "1317    Cuckoo    1000    1000        10000     True            36023.0   \n",
       "1318    Cuckoo    1000    1000        10000     True            21590.0   \n",
       "1319    Cuckoo    1000    1000        10000     True            36023.0   \n",
       "\n",
       "      bytes received  communication time(s)  idle time(s)  computation time(s)  \n",
       "0               62.0               0.480089      0.000000            30.020700  \n",
       "1               13.0               0.359874      0.265700             0.000033  \n",
       "2               62.0               0.480092      0.000000             0.130434  \n",
       "3               13.0               0.359872      0.286035             0.000028  \n",
       "4               62.0               0.479927      0.000000             0.129543  \n",
       "...              ...                    ...           ...                  ...  \n",
       "1315         35964.0               0.548040      0.081242             0.038412  \n",
       "1316         36023.0               0.441711      0.000000             0.040792  \n",
       "1317         35964.0               0.546906      0.081442             0.039721  \n",
       "1318         36023.0               0.441867      0.000000             0.040778  \n",
       "1319         35964.0               0.547919      0.065125             0.038833  \n",
       "\n",
       "[1320 rows x 10 columns]"
      ]
     },
     "execution_count": 207,
     "metadata": {},
     "output_type": "execute_result"
    }
   ],
   "source": [
    "d_1017_raw = ca.parse('plain_data/gensync_985751322_1017.csv')\n",
    "d_1017_raw"
   ]
  },
  {
   "cell_type": "markdown",
   "metadata": {},
   "source": [
    "Each data set parsed this way contains an even number of rows. A row with an even index represents the *GenSync* server's view, while rows with odd indices represent the corresponding client views.\n",
    "\n",
    "We can also get summary dataset using the `summarize` option."
   ]
  },
  {
   "cell_type": "code",
   "execution_count": 208,
   "metadata": {},
   "outputs": [
    {
     "data": {
      "text/html": [
       "<div>\n",
       "<style scoped>\n",
       "    .dataframe tbody tr th:only-of-type {\n",
       "        vertical-align: middle;\n",
       "    }\n",
       "\n",
       "    .dataframe tbody tr th {\n",
       "        vertical-align: top;\n",
       "    }\n",
       "\n",
       "    .dataframe thead th {\n",
       "        text-align: right;\n",
       "    }\n",
       "</style>\n",
       "<table border=\"1\" class=\"dataframe\">\n",
       "  <thead>\n",
       "    <tr style=\"text-align: right;\">\n",
       "      <th></th>\n",
       "      <th>algorithm</th>\n",
       "      <th>diffs</th>\n",
       "      <th>cardinality</th>\n",
       "      <th>success</th>\n",
       "      <th>bytes exchanged</th>\n",
       "      <th>ttr</th>\n",
       "    </tr>\n",
       "  </thead>\n",
       "  <tbody>\n",
       "    <tr>\n",
       "      <th>0</th>\n",
       "      <td>CPI</td>\n",
       "      <td>0</td>\n",
       "      <td>10000</td>\n",
       "      <td>True</td>\n",
       "      <td>75.0</td>\n",
       "      <td>30.500789</td>\n",
       "    </tr>\n",
       "    <tr>\n",
       "      <th>1</th>\n",
       "      <td>CPI</td>\n",
       "      <td>0</td>\n",
       "      <td>10000</td>\n",
       "      <td>True</td>\n",
       "      <td>75.0</td>\n",
       "      <td>0.645935</td>\n",
       "    </tr>\n",
       "    <tr>\n",
       "      <th>2</th>\n",
       "      <td>CPI</td>\n",
       "      <td>0</td>\n",
       "      <td>10000</td>\n",
       "      <td>True</td>\n",
       "      <td>75.0</td>\n",
       "      <td>0.645802</td>\n",
       "    </tr>\n",
       "    <tr>\n",
       "      <th>3</th>\n",
       "      <td>CPI</td>\n",
       "      <td>0</td>\n",
       "      <td>10000</td>\n",
       "      <td>True</td>\n",
       "      <td>75.0</td>\n",
       "      <td>0.620693</td>\n",
       "    </tr>\n",
       "    <tr>\n",
       "      <th>4</th>\n",
       "      <td>CPI</td>\n",
       "      <td>0</td>\n",
       "      <td>10000</td>\n",
       "      <td>True</td>\n",
       "      <td>75.0</td>\n",
       "      <td>28.222602</td>\n",
       "    </tr>\n",
       "    <tr>\n",
       "      <th>...</th>\n",
       "      <td>...</td>\n",
       "      <td>...</td>\n",
       "      <td>...</td>\n",
       "      <td>...</td>\n",
       "      <td>...</td>\n",
       "      <td>...</td>\n",
       "    </tr>\n",
       "    <tr>\n",
       "      <th>655</th>\n",
       "      <td>Cuckoo</td>\n",
       "      <td>1000</td>\n",
       "      <td>10000</td>\n",
       "      <td>True</td>\n",
       "      <td>71987.0</td>\n",
       "      <td>0.658211</td>\n",
       "    </tr>\n",
       "    <tr>\n",
       "      <th>656</th>\n",
       "      <td>Cuckoo</td>\n",
       "      <td>1000</td>\n",
       "      <td>10000</td>\n",
       "      <td>True</td>\n",
       "      <td>71987.0</td>\n",
       "      <td>0.679445</td>\n",
       "    </tr>\n",
       "    <tr>\n",
       "      <th>657</th>\n",
       "      <td>Cuckoo</td>\n",
       "      <td>1000</td>\n",
       "      <td>10000</td>\n",
       "      <td>True</td>\n",
       "      <td>71987.0</td>\n",
       "      <td>0.667694</td>\n",
       "    </tr>\n",
       "    <tr>\n",
       "      <th>658</th>\n",
       "      <td>Cuckoo</td>\n",
       "      <td>1000</td>\n",
       "      <td>10000</td>\n",
       "      <td>True</td>\n",
       "      <td>71987.0</td>\n",
       "      <td>0.668069</td>\n",
       "    </tr>\n",
       "    <tr>\n",
       "      <th>659</th>\n",
       "      <td>Cuckoo</td>\n",
       "      <td>1000</td>\n",
       "      <td>10000</td>\n",
       "      <td>True</td>\n",
       "      <td>71987.0</td>\n",
       "      <td>0.651877</td>\n",
       "    </tr>\n",
       "  </tbody>\n",
       "</table>\n",
       "<p>660 rows × 6 columns</p>\n",
       "</div>"
      ],
      "text/plain": [
       "    algorithm diffs cardinality  success  bytes exchanged        ttr\n",
       "0         CPI     0       10000     True             75.0  30.500789\n",
       "1         CPI     0       10000     True             75.0   0.645935\n",
       "2         CPI     0       10000     True             75.0   0.645802\n",
       "3         CPI     0       10000     True             75.0   0.620693\n",
       "4         CPI     0       10000     True             75.0  28.222602\n",
       "..        ...   ...         ...      ...              ...        ...\n",
       "655    Cuckoo  1000       10000     True          71987.0   0.658211\n",
       "656    Cuckoo  1000       10000     True          71987.0   0.679445\n",
       "657    Cuckoo  1000       10000     True          71987.0   0.667694\n",
       "658    Cuckoo  1000       10000     True          71987.0   0.668069\n",
       "659    Cuckoo  1000       10000     True          71987.0   0.651877\n",
       "\n",
       "[660 rows x 6 columns]"
      ]
     },
     "execution_count": 208,
     "metadata": {},
     "output_type": "execute_result"
    }
   ],
   "source": [
    "d_1017 = ca.parse('plain_data/gensync_985751322_1017.csv', summarize=True)\n",
    "d_1017"
   ]
  },
  {
   "cell_type": "markdown",
   "metadata": {},
   "source": [
    "Here each row represents one experiment run. `bytes exchanged` is the summary communication among the peers. `ttr` is the total time to reconcile.\n",
    "Total time to reconcile (TTR) is obtained by combining each pair of rows in the raw data using \n",
    "\n",
    "$$TTR = \\max_{server, client}( computeTime + communicationTime + idleTime ).$$\n",
    "\n",
    "And the communication cost (COM) is obtained by summing `bytes transmitted` and `bytes received`.\n",
    "\n",
    "To get the number of experiment runs for each `algorithm`, `diffs` and `cardinality`:"
   ]
  },
  {
   "cell_type": "code",
   "execution_count": 209,
   "metadata": {},
   "outputs": [
    {
     "data": {
      "text/plain": [
       "10"
      ]
     },
     "execution_count": 209,
     "metadata": {},
     "output_type": "execute_result"
    }
   ],
   "source": [
    "d_1017_groups = d_1017.groupby(['algorithm', 'diffs', 'cardinality'])\n",
    "len(d_1017_groups.groups[('CPI', 10, 10000)])"
   ]
  },
  {
   "cell_type": "markdown",
   "metadata": {},
   "source": [
    "The number of different cardinalities in the data set is"
   ]
  },
  {
   "cell_type": "code",
   "execution_count": 210,
   "metadata": {},
   "outputs": [
    {
     "data": {
      "text/plain": [
       "1"
      ]
     },
     "execution_count": 210,
     "metadata": {},
     "output_type": "execute_result"
    }
   ],
   "source": [
    "len(d_1017['cardinality'].unique())"
   ]
  },
  {
   "cell_type": "markdown",
   "metadata": {},
   "source": [
    "<a name=\"data_shape_colosseum_scenarios\"></a>\n",
    "## Colosseum Scenarios\n",
    "Each `csv` file is obtained under single Colosseum cellular [scenario](https://colosseumneu.freshdesk.com/support/solutions/articles/61000295793). \n",
    "\n",
    "Next we plot the TTR performance of the three algorithms against differences count under scenario 1017. `d_1017` contains the measurements for the \"Rome\" scenario where devices are static and close to the base station (within 20 m). `d_1018` holds data for the similar scenario where the devices move moderately (up to 3 m/s)."
   ]
  },
  {
   "cell_type": "code",
   "execution_count": 211,
   "metadata": {},
   "outputs": [],
   "source": [
    "d_1018 = ca.parse('plain_data/gensync_974396656_1018.csv', summarize=True)"
   ]
  },
  {
   "cell_type": "markdown",
   "metadata": {},
   "source": [
    "<a name=\"data_shape_average_over_multiple_runs\"></a>\n",
    "## Average over multiple experiment runs\n",
    "How many experiment runs is enough to get reasonably accurate mean TTR over all experiment runs?\n",
    "\n",
    "First off, do all algorithms have similar statistical features?"
   ]
  },
  {
   "cell_type": "code",
   "execution_count": 212,
   "metadata": {},
   "outputs": [
    {
     "data": {
      "text/html": [
       "<div>\n",
       "<style scoped>\n",
       "    .dataframe tbody tr th:only-of-type {\n",
       "        vertical-align: middle;\n",
       "    }\n",
       "\n",
       "    .dataframe tbody tr th {\n",
       "        vertical-align: top;\n",
       "    }\n",
       "\n",
       "    .dataframe thead th {\n",
       "        text-align: right;\n",
       "    }\n",
       "</style>\n",
       "<table border=\"1\" class=\"dataframe\">\n",
       "  <thead>\n",
       "    <tr style=\"text-align: right;\">\n",
       "      <th></th>\n",
       "      <th>algorithm</th>\n",
       "      <th>diffs</th>\n",
       "      <th>cardinality</th>\n",
       "      <th>success</th>\n",
       "      <th>bytes exchanged</th>\n",
       "      <th>ttr</th>\n",
       "    </tr>\n",
       "  </thead>\n",
       "  <tbody>\n",
       "    <tr>\n",
       "      <th>330</th>\n",
       "      <td>CPI</td>\n",
       "      <td>10</td>\n",
       "      <td>10000</td>\n",
       "      <td>True</td>\n",
       "      <td>231.0</td>\n",
       "      <td>30.568804</td>\n",
       "    </tr>\n",
       "    <tr>\n",
       "      <th>331</th>\n",
       "      <td>CPI</td>\n",
       "      <td>10</td>\n",
       "      <td>10000</td>\n",
       "      <td>True</td>\n",
       "      <td>231.0</td>\n",
       "      <td>28.721739</td>\n",
       "    </tr>\n",
       "    <tr>\n",
       "      <th>332</th>\n",
       "      <td>CPI</td>\n",
       "      <td>10</td>\n",
       "      <td>10000</td>\n",
       "      <td>True</td>\n",
       "      <td>231.0</td>\n",
       "      <td>1.624702</td>\n",
       "    </tr>\n",
       "    <tr>\n",
       "      <th>333</th>\n",
       "      <td>CPI</td>\n",
       "      <td>10</td>\n",
       "      <td>10000</td>\n",
       "      <td>True</td>\n",
       "      <td>231.0</td>\n",
       "      <td>5.382294</td>\n",
       "    </tr>\n",
       "    <tr>\n",
       "      <th>334</th>\n",
       "      <td>CPI</td>\n",
       "      <td>10</td>\n",
       "      <td>10000</td>\n",
       "      <td>True</td>\n",
       "      <td>231.0</td>\n",
       "      <td>26.898956</td>\n",
       "    </tr>\n",
       "    <tr>\n",
       "      <th>335</th>\n",
       "      <td>CPI</td>\n",
       "      <td>10</td>\n",
       "      <td>10000</td>\n",
       "      <td>True</td>\n",
       "      <td>231.0</td>\n",
       "      <td>0.822753</td>\n",
       "    </tr>\n",
       "    <tr>\n",
       "      <th>336</th>\n",
       "      <td>CPI</td>\n",
       "      <td>10</td>\n",
       "      <td>10000</td>\n",
       "      <td>True</td>\n",
       "      <td>231.0</td>\n",
       "      <td>0.885706</td>\n",
       "    </tr>\n",
       "    <tr>\n",
       "      <th>337</th>\n",
       "      <td>CPI</td>\n",
       "      <td>10</td>\n",
       "      <td>10000</td>\n",
       "      <td>True</td>\n",
       "      <td>231.0</td>\n",
       "      <td>0.638614</td>\n",
       "    </tr>\n",
       "    <tr>\n",
       "      <th>338</th>\n",
       "      <td>CPI</td>\n",
       "      <td>10</td>\n",
       "      <td>10000</td>\n",
       "      <td>True</td>\n",
       "      <td>231.0</td>\n",
       "      <td>0.652970</td>\n",
       "    </tr>\n",
       "    <tr>\n",
       "      <th>339</th>\n",
       "      <td>CPI</td>\n",
       "      <td>10</td>\n",
       "      <td>10000</td>\n",
       "      <td>True</td>\n",
       "      <td>231.0</td>\n",
       "      <td>5.465376</td>\n",
       "    </tr>\n",
       "  </tbody>\n",
       "</table>\n",
       "</div>"
      ],
      "text/plain": [
       "    algorithm diffs cardinality  success  bytes exchanged        ttr\n",
       "330       CPI    10       10000     True            231.0  30.568804\n",
       "331       CPI    10       10000     True            231.0  28.721739\n",
       "332       CPI    10       10000     True            231.0   1.624702\n",
       "333       CPI    10       10000     True            231.0   5.382294\n",
       "334       CPI    10       10000     True            231.0  26.898956\n",
       "335       CPI    10       10000     True            231.0   0.822753\n",
       "336       CPI    10       10000     True            231.0   0.885706\n",
       "337       CPI    10       10000     True            231.0   0.638614\n",
       "338       CPI    10       10000     True            231.0   0.652970\n",
       "339       CPI    10       10000     True            231.0   5.465376"
      ]
     },
     "execution_count": 212,
     "metadata": {},
     "output_type": "execute_result"
    }
   ],
   "source": [
    "d_1017_CPI_10 = d_1017.loc[d_1017_groups.groups[('CPI', 10, 10000)]]\n",
    "d_1017_CPI_10"
   ]
  },
  {
   "cell_type": "markdown",
   "metadata": {},
   "source": [
    "Why do some of these runs have this huge `ttr`?\n",
    "- Some runs just have very high computation times."
   ]
  },
  {
   "cell_type": "code",
   "execution_count": 213,
   "metadata": {},
   "outputs": [
    {
     "data": {
      "text/html": [
       "<div>\n",
       "<style scoped>\n",
       "    .dataframe tbody tr th:only-of-type {\n",
       "        vertical-align: middle;\n",
       "    }\n",
       "\n",
       "    .dataframe tbody tr th {\n",
       "        vertical-align: top;\n",
       "    }\n",
       "\n",
       "    .dataframe thead th {\n",
       "        text-align: right;\n",
       "    }\n",
       "</style>\n",
       "<table border=\"1\" class=\"dataframe\">\n",
       "  <thead>\n",
       "    <tr style=\"text-align: right;\">\n",
       "      <th></th>\n",
       "      <th>algorithm</th>\n",
       "      <th>server</th>\n",
       "      <th>client</th>\n",
       "      <th>cardinality</th>\n",
       "      <th>success</th>\n",
       "      <th>bytes transmitted</th>\n",
       "      <th>bytes received</th>\n",
       "      <th>communication time(s)</th>\n",
       "      <th>idle time(s)</th>\n",
       "      <th>computation time(s)</th>\n",
       "    </tr>\n",
       "  </thead>\n",
       "  <tbody>\n",
       "    <tr>\n",
       "      <th>660</th>\n",
       "      <td>CPI</td>\n",
       "      <td>10</td>\n",
       "      <td>10</td>\n",
       "      <td>10000</td>\n",
       "      <td>True</td>\n",
       "      <td>89.0</td>\n",
       "      <td>142.0</td>\n",
       "      <td>0.480904</td>\n",
       "      <td>0.000000</td>\n",
       "      <td>30.087900</td>\n",
       "    </tr>\n",
       "    <tr>\n",
       "      <th>661</th>\n",
       "      <td>CPI</td>\n",
       "      <td>10</td>\n",
       "      <td>10</td>\n",
       "      <td>10000</td>\n",
       "      <td>True</td>\n",
       "      <td>142.0</td>\n",
       "      <td>89.0</td>\n",
       "      <td>0.361817</td>\n",
       "      <td>0.262686</td>\n",
       "      <td>0.000084</td>\n",
       "    </tr>\n",
       "    <tr>\n",
       "      <th>662</th>\n",
       "      <td>CPI</td>\n",
       "      <td>10</td>\n",
       "      <td>10</td>\n",
       "      <td>10000</td>\n",
       "      <td>True</td>\n",
       "      <td>89.0</td>\n",
       "      <td>142.0</td>\n",
       "      <td>0.481239</td>\n",
       "      <td>0.000000</td>\n",
       "      <td>28.240500</td>\n",
       "    </tr>\n",
       "    <tr>\n",
       "      <th>663</th>\n",
       "      <td>CPI</td>\n",
       "      <td>10</td>\n",
       "      <td>10</td>\n",
       "      <td>10000</td>\n",
       "      <td>True</td>\n",
       "      <td>142.0</td>\n",
       "      <td>89.0</td>\n",
       "      <td>0.362096</td>\n",
       "      <td>0.283720</td>\n",
       "      <td>0.000105</td>\n",
       "    </tr>\n",
       "    <tr>\n",
       "      <th>664</th>\n",
       "      <td>CPI</td>\n",
       "      <td>10</td>\n",
       "      <td>10</td>\n",
       "      <td>10000</td>\n",
       "      <td>True</td>\n",
       "      <td>89.0</td>\n",
       "      <td>142.0</td>\n",
       "      <td>0.481402</td>\n",
       "      <td>0.000000</td>\n",
       "      <td>1.143300</td>\n",
       "    </tr>\n",
       "    <tr>\n",
       "      <th>665</th>\n",
       "      <td>CPI</td>\n",
       "      <td>10</td>\n",
       "      <td>10</td>\n",
       "      <td>10000</td>\n",
       "      <td>True</td>\n",
       "      <td>142.0</td>\n",
       "      <td>89.0</td>\n",
       "      <td>0.361839</td>\n",
       "      <td>0.294377</td>\n",
       "      <td>0.000081</td>\n",
       "    </tr>\n",
       "    <tr>\n",
       "      <th>666</th>\n",
       "      <td>CPI</td>\n",
       "      <td>10</td>\n",
       "      <td>10</td>\n",
       "      <td>10000</td>\n",
       "      <td>True</td>\n",
       "      <td>89.0</td>\n",
       "      <td>142.0</td>\n",
       "      <td>0.481154</td>\n",
       "      <td>0.000000</td>\n",
       "      <td>4.901140</td>\n",
       "    </tr>\n",
       "    <tr>\n",
       "      <th>667</th>\n",
       "      <td>CPI</td>\n",
       "      <td>10</td>\n",
       "      <td>10</td>\n",
       "      <td>10000</td>\n",
       "      <td>True</td>\n",
       "      <td>142.0</td>\n",
       "      <td>89.0</td>\n",
       "      <td>0.361877</td>\n",
       "      <td>0.291904</td>\n",
       "      <td>0.000074</td>\n",
       "    </tr>\n",
       "    <tr>\n",
       "      <th>668</th>\n",
       "      <td>CPI</td>\n",
       "      <td>10</td>\n",
       "      <td>10</td>\n",
       "      <td>10000</td>\n",
       "      <td>True</td>\n",
       "      <td>89.0</td>\n",
       "      <td>142.0</td>\n",
       "      <td>0.480956</td>\n",
       "      <td>0.000000</td>\n",
       "      <td>26.418000</td>\n",
       "    </tr>\n",
       "    <tr>\n",
       "      <th>669</th>\n",
       "      <td>CPI</td>\n",
       "      <td>10</td>\n",
       "      <td>10</td>\n",
       "      <td>10000</td>\n",
       "      <td>True</td>\n",
       "      <td>142.0</td>\n",
       "      <td>89.0</td>\n",
       "      <td>0.362078</td>\n",
       "      <td>0.261530</td>\n",
       "      <td>0.000083</td>\n",
       "    </tr>\n",
       "    <tr>\n",
       "      <th>670</th>\n",
       "      <td>CPI</td>\n",
       "      <td>10</td>\n",
       "      <td>10</td>\n",
       "      <td>10000</td>\n",
       "      <td>True</td>\n",
       "      <td>89.0</td>\n",
       "      <td>142.0</td>\n",
       "      <td>0.481233</td>\n",
       "      <td>0.000000</td>\n",
       "      <td>0.341520</td>\n",
       "    </tr>\n",
       "    <tr>\n",
       "      <th>671</th>\n",
       "      <td>CPI</td>\n",
       "      <td>10</td>\n",
       "      <td>10</td>\n",
       "      <td>10000</td>\n",
       "      <td>True</td>\n",
       "      <td>142.0</td>\n",
       "      <td>89.0</td>\n",
       "      <td>0.361968</td>\n",
       "      <td>0.285193</td>\n",
       "      <td>0.000091</td>\n",
       "    </tr>\n",
       "    <tr>\n",
       "      <th>672</th>\n",
       "      <td>CPI</td>\n",
       "      <td>10</td>\n",
       "      <td>10</td>\n",
       "      <td>10000</td>\n",
       "      <td>True</td>\n",
       "      <td>89.0</td>\n",
       "      <td>142.0</td>\n",
       "      <td>0.481140</td>\n",
       "      <td>0.000000</td>\n",
       "      <td>0.404566</td>\n",
       "    </tr>\n",
       "    <tr>\n",
       "      <th>673</th>\n",
       "      <td>CPI</td>\n",
       "      <td>10</td>\n",
       "      <td>10</td>\n",
       "      <td>10000</td>\n",
       "      <td>True</td>\n",
       "      <td>142.0</td>\n",
       "      <td>89.0</td>\n",
       "      <td>0.361911</td>\n",
       "      <td>0.260527</td>\n",
       "      <td>0.000076</td>\n",
       "    </tr>\n",
       "    <tr>\n",
       "      <th>674</th>\n",
       "      <td>CPI</td>\n",
       "      <td>10</td>\n",
       "      <td>10</td>\n",
       "      <td>10000</td>\n",
       "      <td>True</td>\n",
       "      <td>89.0</td>\n",
       "      <td>142.0</td>\n",
       "      <td>0.481240</td>\n",
       "      <td>0.000000</td>\n",
       "      <td>0.157374</td>\n",
       "    </tr>\n",
       "    <tr>\n",
       "      <th>675</th>\n",
       "      <td>CPI</td>\n",
       "      <td>10</td>\n",
       "      <td>10</td>\n",
       "      <td>10000</td>\n",
       "      <td>True</td>\n",
       "      <td>142.0</td>\n",
       "      <td>89.0</td>\n",
       "      <td>0.362092</td>\n",
       "      <td>0.261697</td>\n",
       "      <td>0.000073</td>\n",
       "    </tr>\n",
       "    <tr>\n",
       "      <th>676</th>\n",
       "      <td>CPI</td>\n",
       "      <td>10</td>\n",
       "      <td>10</td>\n",
       "      <td>10000</td>\n",
       "      <td>True</td>\n",
       "      <td>89.0</td>\n",
       "      <td>142.0</td>\n",
       "      <td>0.480988</td>\n",
       "      <td>0.000000</td>\n",
       "      <td>0.168872</td>\n",
       "    </tr>\n",
       "    <tr>\n",
       "      <th>677</th>\n",
       "      <td>CPI</td>\n",
       "      <td>10</td>\n",
       "      <td>10</td>\n",
       "      <td>10000</td>\n",
       "      <td>True</td>\n",
       "      <td>142.0</td>\n",
       "      <td>89.0</td>\n",
       "      <td>0.361962</td>\n",
       "      <td>0.290934</td>\n",
       "      <td>0.000074</td>\n",
       "    </tr>\n",
       "    <tr>\n",
       "      <th>678</th>\n",
       "      <td>CPI</td>\n",
       "      <td>10</td>\n",
       "      <td>10</td>\n",
       "      <td>10000</td>\n",
       "      <td>True</td>\n",
       "      <td>142.0</td>\n",
       "      <td>89.0</td>\n",
       "      <td>0.361769</td>\n",
       "      <td>0.281484</td>\n",
       "      <td>0.000075</td>\n",
       "    </tr>\n",
       "    <tr>\n",
       "      <th>679</th>\n",
       "      <td>CPI</td>\n",
       "      <td>10</td>\n",
       "      <td>10</td>\n",
       "      <td>10000</td>\n",
       "      <td>True</td>\n",
       "      <td>89.0</td>\n",
       "      <td>142.0</td>\n",
       "      <td>0.481136</td>\n",
       "      <td>0.000000</td>\n",
       "      <td>4.984240</td>\n",
       "    </tr>\n",
       "  </tbody>\n",
       "</table>\n",
       "</div>"
      ],
      "text/plain": [
       "    algorithm  server  client  cardinality  success  bytes transmitted  \\\n",
       "660       CPI      10      10        10000     True               89.0   \n",
       "661       CPI      10      10        10000     True              142.0   \n",
       "662       CPI      10      10        10000     True               89.0   \n",
       "663       CPI      10      10        10000     True              142.0   \n",
       "664       CPI      10      10        10000     True               89.0   \n",
       "665       CPI      10      10        10000     True              142.0   \n",
       "666       CPI      10      10        10000     True               89.0   \n",
       "667       CPI      10      10        10000     True              142.0   \n",
       "668       CPI      10      10        10000     True               89.0   \n",
       "669       CPI      10      10        10000     True              142.0   \n",
       "670       CPI      10      10        10000     True               89.0   \n",
       "671       CPI      10      10        10000     True              142.0   \n",
       "672       CPI      10      10        10000     True               89.0   \n",
       "673       CPI      10      10        10000     True              142.0   \n",
       "674       CPI      10      10        10000     True               89.0   \n",
       "675       CPI      10      10        10000     True              142.0   \n",
       "676       CPI      10      10        10000     True               89.0   \n",
       "677       CPI      10      10        10000     True              142.0   \n",
       "678       CPI      10      10        10000     True              142.0   \n",
       "679       CPI      10      10        10000     True               89.0   \n",
       "\n",
       "     bytes received  communication time(s)  idle time(s)  computation time(s)  \n",
       "660           142.0               0.480904      0.000000            30.087900  \n",
       "661            89.0               0.361817      0.262686             0.000084  \n",
       "662           142.0               0.481239      0.000000            28.240500  \n",
       "663            89.0               0.362096      0.283720             0.000105  \n",
       "664           142.0               0.481402      0.000000             1.143300  \n",
       "665            89.0               0.361839      0.294377             0.000081  \n",
       "666           142.0               0.481154      0.000000             4.901140  \n",
       "667            89.0               0.361877      0.291904             0.000074  \n",
       "668           142.0               0.480956      0.000000            26.418000  \n",
       "669            89.0               0.362078      0.261530             0.000083  \n",
       "670           142.0               0.481233      0.000000             0.341520  \n",
       "671            89.0               0.361968      0.285193             0.000091  \n",
       "672           142.0               0.481140      0.000000             0.404566  \n",
       "673            89.0               0.361911      0.260527             0.000076  \n",
       "674           142.0               0.481240      0.000000             0.157374  \n",
       "675            89.0               0.362092      0.261697             0.000073  \n",
       "676           142.0               0.480988      0.000000             0.168872  \n",
       "677            89.0               0.361962      0.290934             0.000074  \n",
       "678            89.0               0.361769      0.281484             0.000075  \n",
       "679           142.0               0.481136      0.000000             4.984240  "
      ]
     },
     "execution_count": 213,
     "metadata": {},
     "output_type": "execute_result"
    }
   ],
   "source": [
    "d_1017_raw[(d_1017_raw['algorithm'] == 'CPI') & (d_1017_raw['server'] == 10)]"
   ]
  },
  {
   "cell_type": "markdown",
   "metadata": {},
   "source": [
    "The statistics of CPI with 10 differences is"
   ]
  },
  {
   "cell_type": "code",
   "execution_count": 214,
   "metadata": {},
   "outputs": [
    {
     "data": {
      "text/plain": [
       "count    10.000000\n",
       "mean     10.166191\n",
       "std      12.966641\n",
       "min       0.638614\n",
       "25%       0.838491\n",
       "50%       3.503498\n",
       "75%      21.540561\n",
       "max      30.568804\n",
       "Name: ttr, dtype: float64"
      ]
     },
     "execution_count": 214,
     "metadata": {},
     "output_type": "execute_result"
    }
   ],
   "source": [
    "d_1017_CPI_10['ttr'].describe()"
   ]
  },
  {
   "cell_type": "code",
   "execution_count": 215,
   "metadata": {},
   "outputs": [
    {
     "data": {
      "text/plain": [
       "Text(0.5, 1.0, 'CPI')"
      ]
     },
     "execution_count": 215,
     "metadata": {},
     "output_type": "execute_result"
    },
    {
     "data": {
      "image/png": "[encoded data removed]",
      "text/plain": [
       "<Figure size 432x288 with 1 Axes>"
      ]
     },
     "metadata": {
      "needs_background": "light"
     },
     "output_type": "display_data"
    }
   ],
   "source": [
    "ax = d_1017_CPI_10['ttr'].plot.hist(bins=20)\n",
    "ax.set_xlabel('TTR (s)')\n",
    "ax.set_title('CPI')"
   ]
  },
  {
   "cell_type": "markdown",
   "metadata": {},
   "source": [
    "The variance is very high, it's hard to tell whether these on the far right are outliers. And it appears to hold for many different `diff` values."
   ]
  },
  {
   "cell_type": "code",
   "execution_count": 216,
   "metadata": {},
   "outputs": [
    {
     "name": "stdout",
     "output_type": "stream",
     "text": [
      "For diffs = 200\n",
      "       bytes exchanged        ttr\n",
      "count             10.0  10.000000\n",
      "mean            3271.0  22.676541\n",
      "std                0.0  11.511230\n",
      "min             3271.0   0.888714\n",
      "25%             3271.0  27.502187\n",
      "50%             3271.0  27.588068\n",
      "75%             3271.0  27.737027\n",
      "max             3271.0  30.848822\n",
      "For diffs = 300\n",
      "       bytes exchanged        ttr\n",
      "count        10.000000  10.000000\n",
      "mean       4870.900000  14.479567\n",
      "std           0.316228  13.809552\n",
      "min        4870.000000   1.358848\n",
      "25%        4871.000000   1.371767\n",
      "50%        4871.000000  14.379007\n",
      "75%        4871.000000  27.393471\n",
      "max        4871.000000  28.372030\n",
      "For diffs = 400\n",
      "       bytes exchanged        ttr\n",
      "count        10.000000  10.000000\n",
      "mean       6470.800000  14.900072\n",
      "std           0.421637  13.413069\n",
      "min        6470.000000   2.099767\n",
      "25%        6471.000000   2.208884\n",
      "50%        6471.000000  14.644735\n",
      "75%        6471.000000  27.076657\n",
      "max        6471.000000  29.752376\n",
      "For diffs = 500\n",
      "       bytes exchanged        ttr\n",
      "count             10.0  10.000000\n",
      "mean            8071.0  18.022090\n",
      "std                0.0  12.855889\n",
      "min             8071.0   3.219958\n",
      "25%             8071.0   3.288169\n",
      "50%             8071.0  26.756014\n",
      "75%             8071.0  26.823223\n",
      "max             8071.0  33.216940\n",
      "For diffs = 600\n",
      "       bytes exchanged        ttr\n",
      "count             10.0  10.000000\n",
      "mean            9671.0  19.055733\n",
      "std                0.0  12.452827\n",
      "min             9671.0   4.869041\n",
      "25%             9671.0   4.940643\n",
      "50%             9671.0  25.970490\n",
      "75%             9671.0  26.593853\n",
      "max             9671.0  34.859027\n",
      "For diffs = 700\n",
      "       bytes exchanged        ttr\n",
      "count             10.0  10.000000\n",
      "mean           11271.0  12.816648\n",
      "std                0.0   9.120382\n",
      "min            11271.0   7.029133\n",
      "25%            11271.0   7.074463\n",
      "50%            11271.0   7.196359\n",
      "75%            11271.0  21.358375\n",
      "max            11271.0  26.088969\n",
      "For diffs = 800\n",
      "       bytes exchanged        ttr\n",
      "count        10.000000  10.000000\n",
      "mean      12870.900000  17.744819\n",
      "std           0.316228  10.750354\n",
      "min       12870.000000   9.771577\n",
      "25%       12871.000000   9.921017\n",
      "50%       12871.000000  10.274573\n",
      "75%       12871.000000  25.827487\n",
      "max       12871.000000  39.783689\n",
      "For diffs = 900\n",
      "       bytes exchanged        ttr\n",
      "count        10.000000  10.000000\n",
      "mean      14470.900000  18.981083\n",
      "std           0.316228   9.905076\n",
      "min       14470.000000  13.395859\n",
      "25%       14471.000000  13.436790\n",
      "50%       14471.000000  13.791340\n",
      "75%       14471.000000  22.611560\n",
      "max       14471.000000  43.340646\n",
      "For diffs = 1000\n",
      "       bytes exchanged        ttr\n",
      "count             10.0  10.000000\n",
      "mean           16071.0  22.715323\n",
      "std                0.0   3.796376\n",
      "min            16071.0  17.671890\n",
      "25%            16071.0  18.552570\n",
      "50%            16071.0  24.868552\n",
      "75%            16071.0  25.276304\n",
      "max            16071.0  27.493826\n"
     ]
    }
   ],
   "source": [
    "diffs_of_interest = range(200, 1100, 100)\n",
    "cpi_all_d = [d_1017.loc[d_1017_groups.groups[('CPI', i, 10000)]] for i in diffs_of_interest]\n",
    "for d, i in zip(cpi_all_d, diffs_of_interest):\n",
    "    print(f\"For diffs = {i}\\n{d.describe()}\")"
   ]
  },
  {
   "cell_type": "markdown",
   "metadata": {},
   "source": [
    "Does this happen with other algorithms?"
   ]
  },
  {
   "cell_type": "code",
   "execution_count": 217,
   "metadata": {},
   "outputs": [
    {
     "data": {
      "text/plain": [
       "Text(0.5, 0, 'TTR (s)')"
      ]
     },
     "execution_count": 217,
     "metadata": {},
     "output_type": "execute_result"
    },
    {
     "data": {
      "image/png": "[encoded data removed]",
      "text/plain": [
       "<Figure size 432x288 with 1 Axes>"
      ]
     },
     "metadata": {
      "needs_background": "light"
     },
     "output_type": "display_data"
    }
   ],
   "source": [
    "d_1017_IBLT_200 = d_1017.loc[d_1017_groups.groups[('IBLT', 200, 10000)]]\n",
    "ax = d_1017_IBLT_200['ttr'].plot.hist(bins=20)\n",
    "ax.set_title('IBLT')\n",
    "ax.set_xlabel('TTR (s)')"
   ]
  },
  {
   "cell_type": "code",
   "execution_count": 218,
   "metadata": {},
   "outputs": [
    {
     "data": {
      "text/plain": [
       "Text(0.5, 0, 'TTR (s)')"
      ]
     },
     "execution_count": 218,
     "metadata": {},
     "output_type": "execute_result"
    },
    {
     "data": {
      "image/png": "[encoded data removed]",
      "text/plain": [
       "<Figure size 432x288 with 1 Axes>"
      ]
     },
     "metadata": {
      "needs_background": "light"
     },
     "output_type": "display_data"
    }
   ],
   "source": [
    "d_1017_Cuckoo_200 = d_1017.loc[d_1017_groups.groups[('Cuckoo', 200, 10000)]]\n",
    "ax = d_1017_Cuckoo_200['ttr'].plot.hist(bins=20)\n",
    "ax.set_title('Cuckoo')\n",
    "ax.set_xlabel('TTR (s)')"
   ]
  },
  {
   "cell_type": "markdown",
   "metadata": {},
   "source": [
    "- No. Only with CPI.\n",
    "\n",
    "How many experiment runs we need to reach some reasonable confidence in estimating TTR for CPI?\n",
    "- Maybe 100?\n",
    "\n",
    "The following are the experiments for only CPI where each experiment is repeated 100 times. The experiments are partially done (reservation was 6 hours long and got interrupted before completion)."
   ]
  },
  {
   "cell_type": "code",
   "execution_count": 219,
   "metadata": {},
   "outputs": [
    {
     "data": {
      "text/html": [
       "<div>\n",
       "<style scoped>\n",
       "    .dataframe tbody tr th:only-of-type {\n",
       "        vertical-align: middle;\n",
       "    }\n",
       "\n",
       "    .dataframe tbody tr th {\n",
       "        vertical-align: top;\n",
       "    }\n",
       "\n",
       "    .dataframe thead th {\n",
       "        text-align: right;\n",
       "    }\n",
       "</style>\n",
       "<table border=\"1\" class=\"dataframe\">\n",
       "  <thead>\n",
       "    <tr style=\"text-align: right;\">\n",
       "      <th></th>\n",
       "      <th>algorithm</th>\n",
       "      <th>diffs</th>\n",
       "      <th>cardinality</th>\n",
       "      <th>success</th>\n",
       "      <th>bytes exchanged</th>\n",
       "      <th>ttr</th>\n",
       "    </tr>\n",
       "  </thead>\n",
       "  <tbody>\n",
       "    <tr>\n",
       "      <th>0</th>\n",
       "      <td>CPI</td>\n",
       "      <td>90</td>\n",
       "      <td>10000</td>\n",
       "      <td>True</td>\n",
       "      <td>1511.0</td>\n",
       "      <td>0.751583</td>\n",
       "    </tr>\n",
       "    <tr>\n",
       "      <th>1</th>\n",
       "      <td>CPI</td>\n",
       "      <td>90</td>\n",
       "      <td>10000</td>\n",
       "      <td>True</td>\n",
       "      <td>1511.0</td>\n",
       "      <td>26.837222</td>\n",
       "    </tr>\n",
       "    <tr>\n",
       "      <th>2</th>\n",
       "      <td>CPI</td>\n",
       "      <td>90</td>\n",
       "      <td>10000</td>\n",
       "      <td>True</td>\n",
       "      <td>1511.0</td>\n",
       "      <td>27.981921</td>\n",
       "    </tr>\n",
       "    <tr>\n",
       "      <th>3</th>\n",
       "      <td>CPI</td>\n",
       "      <td>90</td>\n",
       "      <td>10000</td>\n",
       "      <td>True</td>\n",
       "      <td>1511.0</td>\n",
       "      <td>27.993825</td>\n",
       "    </tr>\n",
       "    <tr>\n",
       "      <th>4</th>\n",
       "      <td>CPI</td>\n",
       "      <td>90</td>\n",
       "      <td>10000</td>\n",
       "      <td>True</td>\n",
       "      <td>1511.0</td>\n",
       "      <td>0.747939</td>\n",
       "    </tr>\n",
       "    <tr>\n",
       "      <th>...</th>\n",
       "      <td>...</td>\n",
       "      <td>...</td>\n",
       "      <td>...</td>\n",
       "      <td>...</td>\n",
       "      <td>...</td>\n",
       "      <td>...</td>\n",
       "    </tr>\n",
       "    <tr>\n",
       "      <th>95</th>\n",
       "      <td>CPI</td>\n",
       "      <td>90</td>\n",
       "      <td>10000</td>\n",
       "      <td>True</td>\n",
       "      <td>1511.0</td>\n",
       "      <td>28.002335</td>\n",
       "    </tr>\n",
       "    <tr>\n",
       "      <th>96</th>\n",
       "      <td>CPI</td>\n",
       "      <td>90</td>\n",
       "      <td>10000</td>\n",
       "      <td>True</td>\n",
       "      <td>1511.0</td>\n",
       "      <td>0.734917</td>\n",
       "    </tr>\n",
       "    <tr>\n",
       "      <th>97</th>\n",
       "      <td>CPI</td>\n",
       "      <td>90</td>\n",
       "      <td>10000</td>\n",
       "      <td>True</td>\n",
       "      <td>1511.0</td>\n",
       "      <td>27.961921</td>\n",
       "    </tr>\n",
       "    <tr>\n",
       "      <th>98</th>\n",
       "      <td>CPI</td>\n",
       "      <td>90</td>\n",
       "      <td>10000</td>\n",
       "      <td>True</td>\n",
       "      <td>1511.0</td>\n",
       "      <td>0.753598</td>\n",
       "    </tr>\n",
       "    <tr>\n",
       "      <th>99</th>\n",
       "      <td>CPI</td>\n",
       "      <td>90</td>\n",
       "      <td>10000</td>\n",
       "      <td>True</td>\n",
       "      <td>1511.0</td>\n",
       "      <td>27.896779</td>\n",
       "    </tr>\n",
       "  </tbody>\n",
       "</table>\n",
       "<p>100 rows × 6 columns</p>\n",
       "</div>"
      ],
      "text/plain": [
       "   algorithm diffs cardinality  success  bytes exchanged        ttr\n",
       "0        CPI    90       10000     True           1511.0   0.751583\n",
       "1        CPI    90       10000     True           1511.0  26.837222\n",
       "2        CPI    90       10000     True           1511.0  27.981921\n",
       "3        CPI    90       10000     True           1511.0  27.993825\n",
       "4        CPI    90       10000     True           1511.0   0.747939\n",
       "..       ...   ...         ...      ...              ...        ...\n",
       "95       CPI    90       10000     True           1511.0  28.002335\n",
       "96       CPI    90       10000     True           1511.0   0.734917\n",
       "97       CPI    90       10000     True           1511.0  27.961921\n",
       "98       CPI    90       10000     True           1511.0   0.753598\n",
       "99       CPI    90       10000     True           1511.0  27.896779\n",
       "\n",
       "[100 rows x 6 columns]"
      ]
     },
     "execution_count": 219,
     "metadata": {},
     "output_type": "execute_result"
    }
   ],
   "source": [
    "d_1017_CPI_only = ca.parse('plain_data/gensync_464242008_1017_CPI_only.csv', summarize=True)\n",
    "d_1017_CPI_only[d_1017_CPI_only['diffs'] == 90]"
   ]
  },
  {
   "cell_type": "code",
   "execution_count": 220,
   "metadata": {},
   "outputs": [
    {
     "data": {
      "text/plain": [
       "count    100.000000\n",
       "mean      16.193078\n",
       "std       13.429459\n",
       "min        0.716781\n",
       "25%        0.736996\n",
       "50%       27.378014\n",
       "75%       27.974657\n",
       "max       28.004620\n",
       "Name: ttr, dtype: float64"
      ]
     },
     "execution_count": 220,
     "metadata": {},
     "output_type": "execute_result"
    }
   ],
   "source": [
    "d_1017_CPI_only[d_1017_CPI_only['diffs'] == 90]['ttr'].describe()"
   ]
  },
  {
   "cell_type": "code",
   "execution_count": 221,
   "metadata": {},
   "outputs": [
    {
     "data": {
      "text/plain": [
       "Text(0.5, 1.0, 'CPI')"
      ]
     },
     "execution_count": 221,
     "metadata": {},
     "output_type": "execute_result"
    },
    {
     "data": {
      "image/png": "[encoded data removed]",
      "text/plain": [
       "<Figure size 432x288 with 1 Axes>"
      ]
     },
     "metadata": {
      "needs_background": "light"
     },
     "output_type": "display_data"
    }
   ],
   "source": [
    "ax = d_1017_CPI_only[d_1017_CPI_only['diffs'] == 90]['ttr'].plot.hist(bins=100)\n",
    "ax.set_xlabel('TTR (s)')\n",
    "ax.set_title('CPI')"
   ]
  },
  {
   "cell_type": "markdown",
   "metadata": {},
   "source": [
    "Does it still comes from the compute time?"
   ]
  },
  {
   "cell_type": "code",
   "execution_count": 222,
   "metadata": {},
   "outputs": [
    {
     "data": {
      "text/html": [
       "<div>\n",
       "<style scoped>\n",
       "    .dataframe tbody tr th:only-of-type {\n",
       "        vertical-align: middle;\n",
       "    }\n",
       "\n",
       "    .dataframe tbody tr th {\n",
       "        vertical-align: top;\n",
       "    }\n",
       "\n",
       "    .dataframe thead th {\n",
       "        text-align: right;\n",
       "    }\n",
       "</style>\n",
       "<table border=\"1\" class=\"dataframe\">\n",
       "  <thead>\n",
       "    <tr style=\"text-align: right;\">\n",
       "      <th></th>\n",
       "      <th>algorithm</th>\n",
       "      <th>server</th>\n",
       "      <th>client</th>\n",
       "      <th>cardinality</th>\n",
       "      <th>success</th>\n",
       "      <th>bytes transmitted</th>\n",
       "      <th>bytes received</th>\n",
       "      <th>communication time(s)</th>\n",
       "      <th>idle time(s)</th>\n",
       "      <th>computation time(s)</th>\n",
       "    </tr>\n",
       "  </thead>\n",
       "  <tbody>\n",
       "    <tr>\n",
       "      <th>800</th>\n",
       "      <td>CPI</td>\n",
       "      <td>50</td>\n",
       "      <td>50</td>\n",
       "      <td>10000</td>\n",
       "      <td>True</td>\n",
       "      <td>409.0</td>\n",
       "      <td>462.0</td>\n",
       "      <td>0.483284</td>\n",
       "      <td>0.000000</td>\n",
       "      <td>0.193982</td>\n",
       "    </tr>\n",
       "    <tr>\n",
       "      <th>801</th>\n",
       "      <td>CPI</td>\n",
       "      <td>50</td>\n",
       "      <td>50</td>\n",
       "      <td>10000</td>\n",
       "      <td>True</td>\n",
       "      <td>462.0</td>\n",
       "      <td>409.0</td>\n",
       "      <td>0.386473</td>\n",
       "      <td>0.295366</td>\n",
       "      <td>0.000204</td>\n",
       "    </tr>\n",
       "    <tr>\n",
       "      <th>802</th>\n",
       "      <td>CPI</td>\n",
       "      <td>50</td>\n",
       "      <td>50</td>\n",
       "      <td>10000</td>\n",
       "      <td>True</td>\n",
       "      <td>409.0</td>\n",
       "      <td>462.0</td>\n",
       "      <td>0.483268</td>\n",
       "      <td>0.000000</td>\n",
       "      <td>0.151828</td>\n",
       "    </tr>\n",
       "    <tr>\n",
       "      <th>803</th>\n",
       "      <td>CPI</td>\n",
       "      <td>50</td>\n",
       "      <td>50</td>\n",
       "      <td>10000</td>\n",
       "      <td>True</td>\n",
       "      <td>462.0</td>\n",
       "      <td>409.0</td>\n",
       "      <td>0.377268</td>\n",
       "      <td>0.283237</td>\n",
       "      <td>0.000206</td>\n",
       "    </tr>\n",
       "    <tr>\n",
       "      <th>804</th>\n",
       "      <td>CPI</td>\n",
       "      <td>50</td>\n",
       "      <td>50</td>\n",
       "      <td>10000</td>\n",
       "      <td>True</td>\n",
       "      <td>409.0</td>\n",
       "      <td>462.0</td>\n",
       "      <td>0.483109</td>\n",
       "      <td>0.000000</td>\n",
       "      <td>27.645100</td>\n",
       "    </tr>\n",
       "    <tr>\n",
       "      <th>...</th>\n",
       "      <td>...</td>\n",
       "      <td>...</td>\n",
       "      <td>...</td>\n",
       "      <td>...</td>\n",
       "      <td>...</td>\n",
       "      <td>...</td>\n",
       "      <td>...</td>\n",
       "      <td>...</td>\n",
       "      <td>...</td>\n",
       "      <td>...</td>\n",
       "    </tr>\n",
       "    <tr>\n",
       "      <th>995</th>\n",
       "      <td>CPI</td>\n",
       "      <td>50</td>\n",
       "      <td>50</td>\n",
       "      <td>10000</td>\n",
       "      <td>True</td>\n",
       "      <td>462.0</td>\n",
       "      <td>409.0</td>\n",
       "      <td>0.377456</td>\n",
       "      <td>0.266922</td>\n",
       "      <td>0.000220</td>\n",
       "    </tr>\n",
       "    <tr>\n",
       "      <th>996</th>\n",
       "      <td>CPI</td>\n",
       "      <td>50</td>\n",
       "      <td>50</td>\n",
       "      <td>10000</td>\n",
       "      <td>True</td>\n",
       "      <td>409.0</td>\n",
       "      <td>462.0</td>\n",
       "      <td>0.483345</td>\n",
       "      <td>0.000000</td>\n",
       "      <td>27.651500</td>\n",
       "    </tr>\n",
       "    <tr>\n",
       "      <th>997</th>\n",
       "      <td>CPI</td>\n",
       "      <td>50</td>\n",
       "      <td>50</td>\n",
       "      <td>10000</td>\n",
       "      <td>True</td>\n",
       "      <td>462.0</td>\n",
       "      <td>409.0</td>\n",
       "      <td>0.377234</td>\n",
       "      <td>0.284560</td>\n",
       "      <td>0.000220</td>\n",
       "    </tr>\n",
       "    <tr>\n",
       "      <th>998</th>\n",
       "      <td>CPI</td>\n",
       "      <td>50</td>\n",
       "      <td>50</td>\n",
       "      <td>10000</td>\n",
       "      <td>True</td>\n",
       "      <td>409.0</td>\n",
       "      <td>462.0</td>\n",
       "      <td>0.483218</td>\n",
       "      <td>0.000000</td>\n",
       "      <td>0.165392</td>\n",
       "    </tr>\n",
       "    <tr>\n",
       "      <th>999</th>\n",
       "      <td>CPI</td>\n",
       "      <td>50</td>\n",
       "      <td>50</td>\n",
       "      <td>10000</td>\n",
       "      <td>True</td>\n",
       "      <td>462.0</td>\n",
       "      <td>409.0</td>\n",
       "      <td>0.377160</td>\n",
       "      <td>0.290966</td>\n",
       "      <td>0.000205</td>\n",
       "    </tr>\n",
       "  </tbody>\n",
       "</table>\n",
       "<p>200 rows × 10 columns</p>\n",
       "</div>"
      ],
      "text/plain": [
       "    algorithm  server  client  cardinality  success  bytes transmitted  \\\n",
       "800       CPI      50      50        10000     True              409.0   \n",
       "801       CPI      50      50        10000     True              462.0   \n",
       "802       CPI      50      50        10000     True              409.0   \n",
       "803       CPI      50      50        10000     True              462.0   \n",
       "804       CPI      50      50        10000     True              409.0   \n",
       "..        ...     ...     ...          ...      ...                ...   \n",
       "995       CPI      50      50        10000     True              462.0   \n",
       "996       CPI      50      50        10000     True              409.0   \n",
       "997       CPI      50      50        10000     True              462.0   \n",
       "998       CPI      50      50        10000     True              409.0   \n",
       "999       CPI      50      50        10000     True              462.0   \n",
       "\n",
       "     bytes received  communication time(s)  idle time(s)  computation time(s)  \n",
       "800           462.0               0.483284      0.000000             0.193982  \n",
       "801           409.0               0.386473      0.295366             0.000204  \n",
       "802           462.0               0.483268      0.000000             0.151828  \n",
       "803           409.0               0.377268      0.283237             0.000206  \n",
       "804           462.0               0.483109      0.000000            27.645100  \n",
       "..              ...                    ...           ...                  ...  \n",
       "995           409.0               0.377456      0.266922             0.000220  \n",
       "996           462.0               0.483345      0.000000            27.651500  \n",
       "997           409.0               0.377234      0.284560             0.000220  \n",
       "998           462.0               0.483218      0.000000             0.165392  \n",
       "999           409.0               0.377160      0.290966             0.000205  \n",
       "\n",
       "[200 rows x 10 columns]"
      ]
     },
     "execution_count": 222,
     "metadata": {},
     "output_type": "execute_result"
    }
   ],
   "source": [
    "d_1017_CPI_only_raw = ca.parse('plain_data/gensync_464242008_1017_CPI_only.csv')\n",
    "d_1017_CPI_only_raw_50 = d_1017_CPI_only_raw[d_1017_CPI_only_raw['server'] == 50]\n",
    "d_1017_CPI_only_raw_50"
   ]
  },
  {
   "cell_type": "code",
   "execution_count": 223,
   "metadata": {},
   "outputs": [
    {
     "data": {
      "text/plain": [
       "count    200.000000\n",
       "mean       0.430668\n",
       "std        0.052801\n",
       "min        0.376361\n",
       "25%        0.377332\n",
       "50%        0.434787\n",
       "75%        0.483302\n",
       "max        0.483617\n",
       "Name: communication time(s), dtype: float64"
      ]
     },
     "execution_count": 223,
     "metadata": {},
     "output_type": "execute_result"
    }
   ],
   "source": [
    "d_1017_CPI_only_raw_50['communication time(s)'].describe()"
   ]
  },
  {
   "cell_type": "code",
   "execution_count": 224,
   "metadata": {},
   "outputs": [
    {
     "data": {
      "text/plain": [
       "count    200.000000\n",
       "mean       0.141664\n",
       "std        0.142407\n",
       "min        0.000000\n",
       "25%        0.000000\n",
       "50%        0.129233\n",
       "75%        0.283249\n",
       "max        0.314135\n",
       "Name: idle time(s), dtype: float64"
      ]
     },
     "execution_count": 224,
     "metadata": {},
     "output_type": "execute_result"
    }
   ],
   "source": [
    "d_1017_CPI_only_raw_50['idle time(s)'].describe()"
   ]
  },
  {
   "cell_type": "code",
   "execution_count": 225,
   "metadata": {},
   "outputs": [
    {
     "data": {
      "text/plain": [
       "count    200.000000\n",
       "mean       6.680225\n",
       "std       11.774092\n",
       "min        0.000203\n",
       "25%        0.000215\n",
       "50%        0.062938\n",
       "75%        1.162057\n",
       "max       28.019600\n",
       "Name: computation time(s), dtype: float64"
      ]
     },
     "execution_count": 225,
     "metadata": {},
     "output_type": "execute_result"
    }
   ],
   "source": [
    "d_1017_CPI_only_raw_50['computation time(s)'].describe()"
   ]
  },
  {
   "cell_type": "markdown",
   "metadata": {},
   "source": [
    "Is this computation time only on the server side?"
   ]
  },
  {
   "cell_type": "code",
   "execution_count": 226,
   "metadata": {},
   "outputs": [
    {
     "data": {
      "text/plain": [
       "[]"
      ]
     },
     "execution_count": 226,
     "metadata": {},
     "output_type": "execute_result"
    }
   ],
   "source": [
    "[x for x in d_1017_CPI_only_raw_50[d_1017_CPI_only_raw_50['computation time(s)'] > 15].index if x % 2]"
   ]
  },
  {
   "cell_type": "markdown",
   "metadata": {},
   "source": [
    "Thus, it seems like it's only on the server side."
   ]
  },
  {
   "cell_type": "markdown",
   "metadata": {},
   "source": [
    "<a name=\"data_shape_average_over_fix_cpi\"></a>\n",
    "### Fix CPI computation time measurements"
   ]
  },
  {
   "cell_type": "markdown",
   "metadata": {},
   "source": [
    "It turns out that our CPI server computation time measurements were not implemented correctly when GenSync is compiled with `IGNORE_SERVER_IDLE` option. Now it is fixed and CPI experiments are rerun."
   ]
  },
  {
   "cell_type": "code",
   "execution_count": 227,
   "metadata": {},
   "outputs": [
    {
     "data": {
      "text/plain": [
       "count    10.000000\n",
       "mean      0.662244\n",
       "std       0.021494\n",
       "min       0.639352\n",
       "25%       0.646105\n",
       "50%       0.658789\n",
       "75%       0.671983\n",
       "max       0.710914\n",
       "Name: ttr, dtype: float64"
      ]
     },
     "execution_count": 227,
     "metadata": {},
     "output_type": "execute_result"
    }
   ],
   "source": [
    "d_1017_fix = ca.parse('plain_data/gensync_151036073_1017.csv', summarize=True)\n",
    "d_1017_fix[d_1017_fix['diffs'] == 50]['ttr'].describe()"
   ]
  },
  {
   "cell_type": "markdown",
   "metadata": {},
   "source": [
    "Next, we will combine the data frames from this experiment with the one from the previous runs."
   ]
  },
  {
   "cell_type": "code",
   "execution_count": 228,
   "metadata": {},
   "outputs": [
    {
     "data": {
      "text/html": [
       "<div>\n",
       "<style scoped>\n",
       "    .dataframe tbody tr th:only-of-type {\n",
       "        vertical-align: middle;\n",
       "    }\n",
       "\n",
       "    .dataframe tbody tr th {\n",
       "        vertical-align: top;\n",
       "    }\n",
       "\n",
       "    .dataframe thead th {\n",
       "        text-align: right;\n",
       "    }\n",
       "</style>\n",
       "<table border=\"1\" class=\"dataframe\">\n",
       "  <thead>\n",
       "    <tr style=\"text-align: right;\">\n",
       "      <th></th>\n",
       "      <th>algorithm</th>\n",
       "      <th>diffs</th>\n",
       "      <th>cardinality</th>\n",
       "      <th>success</th>\n",
       "      <th>bytes exchanged</th>\n",
       "      <th>ttr</th>\n",
       "    </tr>\n",
       "  </thead>\n",
       "  <tbody>\n",
       "    <tr>\n",
       "      <th>520</th>\n",
       "      <td>CPI</td>\n",
       "      <td>10</td>\n",
       "      <td>10000</td>\n",
       "      <td>True</td>\n",
       "      <td>231.0</td>\n",
       "      <td>0.644389</td>\n",
       "    </tr>\n",
       "    <tr>\n",
       "      <th>521</th>\n",
       "      <td>CPI</td>\n",
       "      <td>10</td>\n",
       "      <td>10000</td>\n",
       "      <td>True</td>\n",
       "      <td>231.0</td>\n",
       "      <td>0.660261</td>\n",
       "    </tr>\n",
       "    <tr>\n",
       "      <th>522</th>\n",
       "      <td>CPI</td>\n",
       "      <td>10</td>\n",
       "      <td>10000</td>\n",
       "      <td>True</td>\n",
       "      <td>231.0</td>\n",
       "      <td>0.648104</td>\n",
       "    </tr>\n",
       "    <tr>\n",
       "      <th>523</th>\n",
       "      <td>CPI</td>\n",
       "      <td>10</td>\n",
       "      <td>10000</td>\n",
       "      <td>True</td>\n",
       "      <td>231.0</td>\n",
       "      <td>0.632232</td>\n",
       "    </tr>\n",
       "    <tr>\n",
       "      <th>524</th>\n",
       "      <td>CPI</td>\n",
       "      <td>10</td>\n",
       "      <td>10000</td>\n",
       "      <td>True</td>\n",
       "      <td>231.0</td>\n",
       "      <td>0.620704</td>\n",
       "    </tr>\n",
       "    <tr>\n",
       "      <th>525</th>\n",
       "      <td>CPI</td>\n",
       "      <td>10</td>\n",
       "      <td>10000</td>\n",
       "      <td>True</td>\n",
       "      <td>231.0</td>\n",
       "      <td>0.657554</td>\n",
       "    </tr>\n",
       "    <tr>\n",
       "      <th>526</th>\n",
       "      <td>CPI</td>\n",
       "      <td>10</td>\n",
       "      <td>10000</td>\n",
       "      <td>True</td>\n",
       "      <td>231.0</td>\n",
       "      <td>0.655473</td>\n",
       "    </tr>\n",
       "    <tr>\n",
       "      <th>527</th>\n",
       "      <td>CPI</td>\n",
       "      <td>10</td>\n",
       "      <td>10000</td>\n",
       "      <td>True</td>\n",
       "      <td>231.0</td>\n",
       "      <td>0.654131</td>\n",
       "    </tr>\n",
       "    <tr>\n",
       "      <th>528</th>\n",
       "      <td>CPI</td>\n",
       "      <td>10</td>\n",
       "      <td>10000</td>\n",
       "      <td>True</td>\n",
       "      <td>231.0</td>\n",
       "      <td>0.622770</td>\n",
       "    </tr>\n",
       "    <tr>\n",
       "      <th>529</th>\n",
       "      <td>CPI</td>\n",
       "      <td>10</td>\n",
       "      <td>10000</td>\n",
       "      <td>True</td>\n",
       "      <td>231.0</td>\n",
       "      <td>0.637173</td>\n",
       "    </tr>\n",
       "  </tbody>\n",
       "</table>\n",
       "</div>"
      ],
      "text/plain": [
       "    algorithm diffs cardinality  success  bytes exchanged       ttr\n",
       "520       CPI    10       10000     True            231.0  0.644389\n",
       "521       CPI    10       10000     True            231.0  0.660261\n",
       "522       CPI    10       10000     True            231.0  0.648104\n",
       "523       CPI    10       10000     True            231.0  0.632232\n",
       "524       CPI    10       10000     True            231.0  0.620704\n",
       "525       CPI    10       10000     True            231.0  0.657554\n",
       "526       CPI    10       10000     True            231.0  0.655473\n",
       "527       CPI    10       10000     True            231.0  0.654131\n",
       "528       CPI    10       10000     True            231.0  0.622770\n",
       "529       CPI    10       10000     True            231.0  0.637173"
      ]
     },
     "execution_count": 228,
     "metadata": {},
     "output_type": "execute_result"
    }
   ],
   "source": [
    "d_1017 = ca.fix(d_1017, d_1017_fix)\n",
    "d_1017[(d_1017['algorithm'] == 'CPI') & (d_1017['diffs'] == 10)]"
   ]
  },
  {
   "cell_type": "code",
   "execution_count": 229,
   "metadata": {},
   "outputs": [
    {
     "data": {
      "text/plain": [
       "(660, 6)"
      ]
     },
     "execution_count": 229,
     "metadata": {},
     "output_type": "execute_result"
    }
   ],
   "source": [
    "d_1017.shape"
   ]
  },
  {
   "cell_type": "code",
   "execution_count": 230,
   "metadata": {},
   "outputs": [
    {
     "data": {
      "text/html": [
       "<div>\n",
       "<style scoped>\n",
       "    .dataframe tbody tr th:only-of-type {\n",
       "        vertical-align: middle;\n",
       "    }\n",
       "\n",
       "    .dataframe tbody tr th {\n",
       "        vertical-align: top;\n",
       "    }\n",
       "\n",
       "    .dataframe thead th {\n",
       "        text-align: right;\n",
       "    }\n",
       "</style>\n",
       "<table border=\"1\" class=\"dataframe\">\n",
       "  <thead>\n",
       "    <tr style=\"text-align: right;\">\n",
       "      <th></th>\n",
       "      <th>algorithm</th>\n",
       "      <th>diffs</th>\n",
       "      <th>cardinality</th>\n",
       "      <th>success</th>\n",
       "      <th>bytes exchanged</th>\n",
       "      <th>ttr</th>\n",
       "    </tr>\n",
       "  </thead>\n",
       "  <tbody>\n",
       "    <tr>\n",
       "      <th>520</th>\n",
       "      <td>CPI</td>\n",
       "      <td>10</td>\n",
       "      <td>10000</td>\n",
       "      <td>True</td>\n",
       "      <td>231.0</td>\n",
       "      <td>0.653457</td>\n",
       "    </tr>\n",
       "    <tr>\n",
       "      <th>521</th>\n",
       "      <td>CPI</td>\n",
       "      <td>10</td>\n",
       "      <td>10000</td>\n",
       "      <td>True</td>\n",
       "      <td>231.0</td>\n",
       "      <td>0.644646</td>\n",
       "    </tr>\n",
       "    <tr>\n",
       "      <th>522</th>\n",
       "      <td>CPI</td>\n",
       "      <td>10</td>\n",
       "      <td>10000</td>\n",
       "      <td>True</td>\n",
       "      <td>231.0</td>\n",
       "      <td>0.652675</td>\n",
       "    </tr>\n",
       "    <tr>\n",
       "      <th>523</th>\n",
       "      <td>CPI</td>\n",
       "      <td>10</td>\n",
       "      <td>10000</td>\n",
       "      <td>True</td>\n",
       "      <td>231.0</td>\n",
       "      <td>0.629291</td>\n",
       "    </tr>\n",
       "    <tr>\n",
       "      <th>524</th>\n",
       "      <td>CPI</td>\n",
       "      <td>10</td>\n",
       "      <td>10000</td>\n",
       "      <td>True</td>\n",
       "      <td>231.0</td>\n",
       "      <td>0.655896</td>\n",
       "    </tr>\n",
       "    <tr>\n",
       "      <th>525</th>\n",
       "      <td>CPI</td>\n",
       "      <td>10</td>\n",
       "      <td>10000</td>\n",
       "      <td>True</td>\n",
       "      <td>231.0</td>\n",
       "      <td>0.633967</td>\n",
       "    </tr>\n",
       "    <tr>\n",
       "      <th>526</th>\n",
       "      <td>CPI</td>\n",
       "      <td>10</td>\n",
       "      <td>10000</td>\n",
       "      <td>True</td>\n",
       "      <td>231.0</td>\n",
       "      <td>0.634764</td>\n",
       "    </tr>\n",
       "    <tr>\n",
       "      <th>527</th>\n",
       "      <td>CPI</td>\n",
       "      <td>10</td>\n",
       "      <td>10000</td>\n",
       "      <td>True</td>\n",
       "      <td>231.0</td>\n",
       "      <td>0.656365</td>\n",
       "    </tr>\n",
       "    <tr>\n",
       "      <th>528</th>\n",
       "      <td>CPI</td>\n",
       "      <td>10</td>\n",
       "      <td>10000</td>\n",
       "      <td>True</td>\n",
       "      <td>231.0</td>\n",
       "      <td>0.643659</td>\n",
       "    </tr>\n",
       "    <tr>\n",
       "      <th>529</th>\n",
       "      <td>CPI</td>\n",
       "      <td>10</td>\n",
       "      <td>10000</td>\n",
       "      <td>True</td>\n",
       "      <td>231.0</td>\n",
       "      <td>0.637199</td>\n",
       "    </tr>\n",
       "  </tbody>\n",
       "</table>\n",
       "</div>"
      ],
      "text/plain": [
       "    algorithm diffs cardinality  success  bytes exchanged       ttr\n",
       "520       CPI    10       10000     True            231.0  0.653457\n",
       "521       CPI    10       10000     True            231.0  0.644646\n",
       "522       CPI    10       10000     True            231.0  0.652675\n",
       "523       CPI    10       10000     True            231.0  0.629291\n",
       "524       CPI    10       10000     True            231.0  0.655896\n",
       "525       CPI    10       10000     True            231.0  0.633967\n",
       "526       CPI    10       10000     True            231.0  0.634764\n",
       "527       CPI    10       10000     True            231.0  0.656365\n",
       "528       CPI    10       10000     True            231.0  0.643659\n",
       "529       CPI    10       10000     True            231.0  0.637199"
      ]
     },
     "execution_count": 230,
     "metadata": {},
     "output_type": "execute_result"
    }
   ],
   "source": [
    "d_1018_fix = ca.parse('plain_data/gensync_968760679_1018.csv', summarize=True)\n",
    "d_1018 = ca.fix(d_1018, d_1018_fix)\n",
    "d_1018[(d_1018['algorithm'] == 'CPI') & (d_1018['diffs'] == 10)]"
   ]
  },
  {
   "cell_type": "markdown",
   "metadata": {},
   "source": [
    "The data is now more accurate."
   ]
  },
  {
   "cell_type": "markdown",
   "metadata": {},
   "source": [
    "<a name=\"performance_on_colosseum\"></a>\n",
    "# GenSync Performance On Colosseum\n",
    "We analyze the initial results obtained from the following scenarios:\n",
    "- Rome close static (1017): 3 user devices, 1 base station, users are static and within 20 m from the base station, and\n",
    "- Rome close moderate (1018): users are moving at ~3 m/s within 20 m from the base station.\n",
    "- Rome far static (1019): users are static, but further from the base station (within 100 m).\n",
    "- Boston close static (1031)\n",
    "- Boston close moderate (1033)\n",
    "- Boston far static (1024)\n",
    "- POWDER close static (1025)\n",
    "- POWDER close moderate (1026)\n",
    "- POWDER far static (1027)\n",
    "\n",
    "Data parameters are $|S_A| = |S_B| = 10000$ and $10 <= d <= 1000$. Each experiment is repeated 10 times.\n",
    "\n",
    "In these experiments, synchronization is done among two users while the third is idle (does not transmit or receive any traffic)."
   ]
  },
  {
   "cell_type": "markdown",
   "metadata": {},
   "source": [
    "<a name=\"#results_rome\"></a>\n",
    "## Rome Scenario"
   ]
  },
  {
   "cell_type": "code",
   "execution_count": 231,
   "metadata": {},
   "outputs": [],
   "source": [
    "def get_algo_data(algo: str, data: pd.DataFrame):\n",
    "    return data[data['algorithm'] == algo]"
   ]
  },
  {
   "cell_type": "code",
   "execution_count": 232,
   "metadata": {},
   "outputs": [],
   "source": [
    "CPI_1017 = get_algo_data('CPI', d_1017)\n",
    "IBLT_1017 = get_algo_data('IBLT', d_1017)\n",
    "Cuckoo_1017 = get_algo_data('Cuckoo', d_1017)"
   ]
  },
  {
   "cell_type": "code",
   "execution_count": 233,
   "metadata": {},
   "outputs": [],
   "source": [
    "CPI_1018 = get_algo_data('CPI', d_1018)\n",
    "IBLT_1018 = get_algo_data('IBLT', d_1018)\n",
    "Cuckoo_1018 = get_algo_data('Cuckoo', d_1018)"
   ]
  },
  {
   "cell_type": "code",
   "execution_count": 234,
   "metadata": {},
   "outputs": [],
   "source": [
    "def get_xs_ys(data: pd.DataFrame): \n",
    "    g = data.groupby('diffs')\n",
    "    diffs = g.groups.keys()\n",
    "    stat = g.apply(lambda x: x.describe())['ttr']\n",
    "    ttrs = [stat.xs(d)['mean'] for d in diffs]\n",
    "    return diffs, ttrs"
   ]
  },
  {
   "cell_type": "code",
   "execution_count": 253,
   "metadata": {},
   "outputs": [],
   "source": [
    "def plot_ttr(data: List[pd.DataFrame], labels: List[str], axis=plt, title=None) -> None:\n",
    "    x_label = 'Symmetric Differences (d)'\n",
    "    y_label = 'TTR (s)'\n",
    "    \n",
    "    for d in data:\n",
    "        xs, ys = get_xs_ys(d)\n",
    "        axis.plot(xs, ys)\n",
    "        \n",
    "    axis.legend(labels)\n",
    "    axis.xlabel(x_label) if type(axis) == type(plt) else axis.set_xlabel(x_label)\n",
    "    axis.ylabel(y_label) if type(axis) == type(plt) else axis.set_ylabel(y_label)\n",
    "    if title:\n",
    "        axis.title(title) if type(axis) == type(plt) else axis.set_title(title)"
   ]
  },
  {
   "cell_type": "code",
   "execution_count": 254,
   "metadata": {},
   "outputs": [
    {
     "data": {
      "image/png": "[encoded data removed]",
      "text/plain": [
       "<Figure size 432x288 with 1 Axes>"
      ]
     },
     "metadata": {
      "needs_background": "light"
     },
     "output_type": "display_data"
    }
   ],
   "source": [
    "plot_ttr([CPI_1017, IBLT_1017, Cuckoo_1017], ['CPI', 'IBLT', 'Cuckoo'])"
   ]
  },
  {
   "cell_type": "markdown",
   "metadata": {},
   "source": [
    "Above is what happens when the nodes are static. The following is what happens when the nodes move moderately (*i.e*, at about 3 m/s)"
   ]
  },
  {
   "cell_type": "code",
   "execution_count": 237,
   "metadata": {},
   "outputs": [
    {
     "data": {
      "image/png": "[encoded data removed]",
      "text/plain": [
       "<Figure size 432x288 with 1 Axes>"
      ]
     },
     "metadata": {
      "needs_background": "light"
     },
     "output_type": "display_data"
    }
   ],
   "source": [
    "plot_ttr([CPI_1018, IBLT_1018, Cuckoo_1018], ['CPI', 'IBLT', 'Cuckoo'])"
   ]
  },
  {
   "cell_type": "markdown",
   "metadata": {},
   "source": [
    "Next, let's plot what happens when the nodes are static but now at around 100 m."
   ]
  },
  {
   "cell_type": "code",
   "execution_count": 238,
   "metadata": {},
   "outputs": [],
   "source": [
    "d_1019 = ca.parse('plain_data/gensync_716773447_1019.csv', summarize=True)"
   ]
  },
  {
   "cell_type": "code",
   "execution_count": 239,
   "metadata": {},
   "outputs": [
    {
     "data": {
      "image/png": "[encoded data removed]",
      "text/plain": [
       "<Figure size 432x288 with 1 Axes>"
      ]
     },
     "metadata": {
      "needs_background": "light"
     },
     "output_type": "display_data"
    }
   ],
   "source": [
    "CPI_1019 = get_algo_data('CPI', d_1019)\n",
    "IBLT_1019 = get_algo_data('IBLT', d_1019)\n",
    "Cuckoo_1019 = get_algo_data('Cuckoo', d_1019)\n",
    "\n",
    "plot_ttr([CPI_1019, IBLT_1019, Cuckoo_1019], ['CPI', 'IBLT', 'Cuckoo'])"
   ]
  },
  {
   "cell_type": "markdown",
   "metadata": {},
   "source": [
    "Which does not differ significantly from the plot when the nodes were within 20 m from the base station. In conclusion, **movements affect the performance** of our algorithms more than the distance from the base station."
   ]
  },
  {
   "cell_type": "markdown",
   "metadata": {},
   "source": [
    "<a name=\"#results_boston_and_powder\"></a>\n",
    "## Boston and POWDER Scenarios"
   ]
  },
  {
   "cell_type": "code",
   "execution_count": 240,
   "metadata": {},
   "outputs": [],
   "source": [
    "d_1031 = ca.parse('plain_data/gensync_203947479_1031.csv', summarize=True)\n",
    "d_1033 = ca.parse('plain_data/gensync_849071254_1033.csv', summarize=True)\n",
    "d_1024 = ca.parse('plain_data/gensync_020381165_1024.csv', summarize=True)"
   ]
  },
  {
   "cell_type": "code",
   "execution_count": 241,
   "metadata": {},
   "outputs": [],
   "source": [
    "CPI_1031 = get_algo_data('CPI', d_1031)\n",
    "IBLT_1031 = get_algo_data('IBLT', d_1031)\n",
    "Cuckoo_1031 = get_algo_data('Cuckoo', d_1031)\n",
    "\n",
    "CPI_1033 = get_algo_data('CPI', d_1033)\n",
    "IBLT_1033 = get_algo_data('IBLT', d_1033)\n",
    "Cuckoo_1033 = get_algo_data('Cuckoo', d_1033)\n",
    "\n",
    "CPI_1024 = get_algo_data('CPI', d_1024)\n",
    "IBLT_1024 = get_algo_data('IBLT', d_1024)\n",
    "Cuckoo_1024 = get_algo_data('Cuckoo', d_1024)"
   ]
  },
  {
   "cell_type": "code",
   "execution_count": 264,
   "metadata": {},
   "outputs": [
    {
     "data": {
      "text/plain": [
       "Text(0.5, 0.98, 'Boston')"
      ]
     },
     "execution_count": 264,
     "metadata": {},
     "output_type": "execute_result"
    },
    {
     "data": {
      "image/png": "[encoded data removed]",
      "text/plain": [
       "<Figure size 1296x432 with 3 Axes>"
      ]
     },
     "metadata": {
      "needs_background": "light"
     },
     "output_type": "display_data"
    }
   ],
   "source": [
    "figure, axis = plt.subplots(1, 3, figsize=(18, 6))\n",
    "plot_ttr([CPI_1031, IBLT_1031, Cuckoo_1031], ['CPI', 'IBLT', 'Cuckoo'], title='close static', axis=axis[0])\n",
    "plot_ttr([CPI_1033, IBLT_1033, Cuckoo_1033], ['CPI', 'IBLT', 'Cuckoo'], title='close moderate', axis=axis[1])\n",
    "plot_ttr([CPI_1024, IBLT_1024, Cuckoo_1024], ['CPI', 'IBLT', 'Cuckoo'], title='far static', axis=axis[2])\n",
    "figure.suptitle('Boston')"
   ]
  },
  {
   "cell_type": "code",
   "execution_count": 269,
   "metadata": {},
   "outputs": [],
   "source": [
    "d_1025 = ca.parse('plain_data/gensync_081328890_1025.csv', summarize=True)\n",
    "d_1026 = ca.parse('plain_data/gensync_909483837_1026.csv', summarize=True)\n",
    "d_1027 = ca.parse('plain_data/gensync_863458421_1027.csv', summarize=True)"
   ]
  },
  {
   "cell_type": "code",
   "execution_count": 272,
   "metadata": {},
   "outputs": [],
   "source": [
    "CPI_1025 = get_algo_data('CPI', d_1025)\n",
    "IBLT_1025 = get_algo_data('IBLT', d_1025)\n",
    "Cuckoo_1025 = get_algo_data('Cuckoo', d_1025)\n",
    "\n",
    "# CPI_1026 = get_algo_data('CPI', d_1026)\n",
    "# IBLT_1026 = get_algo_data('IBLT', d_1026)\n",
    "# Cuckoo_1026 = get_algo_data('Cuckoo', d_1026)\n",
    "\n",
    "CPI_1027 = get_algo_data('CPI', d_1027)\n",
    "IBLT_1027 = get_algo_data('IBLT', d_1027)\n",
    "Cuckoo_1027 = get_algo_data('Cuckoo', d_1027)"
   ]
  },
  {
   "cell_type": "code",
   "execution_count": 280,
   "metadata": {},
   "outputs": [
    {
     "data": {
      "text/plain": [
       "(80, 6)"
      ]
     },
     "execution_count": 280,
     "metadata": {},
     "output_type": "execute_result"
    }
   ],
   "source": [
    "d_1026.shape"
   ]
  },
  {
   "cell_type": "code",
   "execution_count": 281,
   "metadata": {},
   "outputs": [
    {
     "data": {
      "text/plain": [
       "(660, 6)"
      ]
     },
     "execution_count": 281,
     "metadata": {},
     "output_type": "execute_result"
    }
   ],
   "source": [
    "d_1027.shape"
   ]
  },
  {
   "cell_type": "markdown",
   "metadata": {},
   "source": [
    "**TODO**: There is something wrong with scenario 1026. Only 80 columns, while others have 660."
   ]
  },
  {
   "cell_type": "code",
   "execution_count": 283,
   "metadata": {},
   "outputs": [
    {
     "data": {
      "text/plain": [
       "Text(0.5, 0.98, 'POWDER')"
      ]
     },
     "execution_count": 283,
     "metadata": {},
     "output_type": "execute_result"
    },
    {
     "data": {
      "image/png": "[encoded data removed]",
      "text/plain": [
       "<Figure size 864x432 with 2 Axes>"
      ]
     },
     "metadata": {
      "needs_background": "light"
     },
     "output_type": "display_data"
    }
   ],
   "source": [
    "figure, axis = plt.subplots(1, 2, figsize=(12, 6))\n",
    "plot_ttr([CPI_1025, IBLT_1025, Cuckoo_1025], ['CPI', 'IBLT', 'Cuckoo'], title='close static', axis=axis[0])\n",
    "#plot_ttr([CPI_1026, IBLT_1026, Cuckoo_1026], ['CPI', 'IBLT', 'Cuckoo'], title='close moderate', axis=axis[1])\n",
    "plot_ttr([CPI_1027, IBLT_1027, Cuckoo_1027], ['CPI', 'IBLT', 'Cuckoo'], title='far static', axis=axis[1])\n",
    "figure.suptitle('POWDER')"
   ]
  }
 ],
 "metadata": {
  "kernelspec": {
   "display_name": "Python 3",
   "language": "python",
   "name": "python3"
  },
  "language_info": {
   "codemirror_mode": {
    "name": "ipython",
    "version": 3
   },
   "file_extension": ".py",
   "mimetype": "text/x-python",
   "name": "python",
   "nbconvert_exporter": "python",
   "pygments_lexer": "ipython3",
   "version": "3.6.9"
  }
 },
 "nbformat": 4,
 "nbformat_minor": 4
}
